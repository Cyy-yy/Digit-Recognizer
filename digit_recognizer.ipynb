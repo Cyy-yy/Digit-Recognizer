{
 "cells": [
  {
   "cell_type": "code",
   "execution_count": 11,
   "metadata": {},
   "outputs": [],
   "source": [
    "# !user/bin/env/python3\n",
    "# -*- coding: utf-8 -*-\n",
    "\"\"\"\n",
    "@author: cyy\n",
    "\"\"\"\n",
    "\n",
    "import numpy as np\n",
    "import pandas as pd\n",
    "from sklearn.neighbors import KNeighborsClassifier\n",
    "from sklearn.model_selection import cross_val_score\n",
    "import matplotlib.pyplot as plt\n",
    "import warnings\n",
    "warnings.filterwarnings('ignore')"
   ]
  },
  {
   "cell_type": "code",
   "execution_count": 27,
   "metadata": {
    "scrolled": false
   },
   "outputs": [],
   "source": [
    "data_train = pd.read_csv('E:/kaggle/Digit_Recognizer/train.csv')\n",
    "data_train = data_train.values[:1000]"
   ]
  },
  {
   "cell_type": "code",
   "execution_count": 28,
   "metadata": {},
   "outputs": [],
   "source": [
    "labels = data_train[:, 0]\n",
    "data = data_train[:, 1:]"
   ]
  },
  {
   "cell_type": "code",
   "execution_count": 29,
   "metadata": {},
   "outputs": [],
   "source": [
    "def nomalizing(array):\n",
    "    for i in range(array.shape[0]):\n",
    "        for j in range(array.shape[1]):\n",
    "            if array[i, j] != 0:\n",
    "                array[i, j] = 1\n",
    "    return array"
   ]
  },
  {
   "cell_type": "code",
   "execution_count": 30,
   "metadata": {},
   "outputs": [],
   "source": [
    "data = nomalizing(data)"
   ]
  },
  {
   "cell_type": "code",
   "execution_count": 31,
   "metadata": {},
   "outputs": [],
   "source": [
    "k_error = []\n",
    "for k in range(1, 31):\n",
    "    knn = KNeighborsClassifier(n_neighbors=k)\n",
    "    scores = cross_val_score(knn, data, labels, cv=10, n_jobs=-1, scoring='balanced_accuracy')\n",
    "    k_error.append(1 - scores.mean())"
   ]
  },
  {
   "cell_type": "code",
   "execution_count": 32,
   "metadata": {
    "scrolled": true
   },
   "outputs": [
    {
     "data": {
      "image/png": "[encoded data removed]",
      "text/plain": [
       "<Figure size 864x360 with 1 Axes>"
      ]
     },
     "metadata": {
      "needs_background": "light"
     },
     "output_type": "display_data"
    }
   ],
   "source": [
    "fig = plt.figure(figsize=(12, 5))\n",
    "fig.add_subplot(111)\n",
    "plt.plot(list(range(1, 31)), k_error)\n",
    "plt.xlabel('k')\n",
    "plt.ylabel('Error')\n",
    "plt.show()"
   ]
  },
  {
   "cell_type": "code",
   "execution_count": 33,
   "metadata": {},
   "outputs": [
    {
     "data": {
      "text/plain": [
       "KNeighborsClassifier(algorithm='brute', leaf_size=30, metric='euclidean',\n",
       "                     metric_params=None, n_jobs=-1, n_neighbors=3, p=2,\n",
       "                     weights='uniform')"
      ]
     },
     "execution_count": 33,
     "metadata": {},
     "output_type": "execute_result"
    }
   ],
   "source": [
    "knn = KNeighborsClassifier(n_neighbors=3, weights='uniform', algorithm='brute', p=2, metric='euclidean', n_jobs=-1)\n",
    "knn.fit(data, labels)"
   ]
  },
  {
   "cell_type": "code",
   "execution_count": 34,
   "metadata": {},
   "outputs": [],
   "source": [
    "data_test = pd.read_csv('E:/kaggle/Digit_Recognizer/test.csv')\n",
    "data_test = data_test.values\n",
    "predictions = knn.predict(data_test)\n",
    "result = pd.DataFrame({'ImageId': np.arange(1, 28001), 'Label':predictions})\n",
    "result.to_csv('E:/kaggle/Digit_Recognizer/submission.csv', index=False)"
   ]
  },
  {
   "cell_type": "code",
   "execution_count": 93,
   "metadata": {},
   "outputs": [],
   "source": [
    "def KnnClassifier(inX, dataset, labels, k=5):\n",
    "    size = dataset.shape[0]\n",
    "    diff = np.tile(inX, (size, 1)) - dataset\n",
    "    square = diff ** 2\n",
    "    distances = np.sqrt(square.sum(axis=1))\n",
    "    arg_sort = np.argsort(distances)\n",
    "    distances_count = {}\n",
    "    for i in range(k):\n",
    "        distances_count[labels[arg_sort[i]]] = distances_count.get(labels[arg_sort[i]], 0) + 1\n",
    "    distances_sort = sorted(distances_count.items(), key=lambda x: x[1], reverse=True)\n",
    "    return distances_sort[0][0]"
   ]
  },
  {
   "cell_type": "code",
   "execution_count": 98,
   "metadata": {},
   "outputs": [
    {
     "data": {
      "text/plain": [
       "'B'"
      ]
     },
     "execution_count": 98,
     "metadata": {},
     "output_type": "execute_result"
    }
   ],
   "source": [
    "group = np.array([[1, 1.1], [1, 1], [0, 0], [0, 0.1]])\n",
    "labels = list('AABB')\n",
    "KnnClassifier([-1, -1], group, labels, 3)"
   ]
  }
 ],
 "metadata": {
  "kernelspec": {
   "display_name": "Python 3",
   "language": "python",
   "name": "python3"
  },
  "language_info": {
   "codemirror_mode": {
    "name": "ipython",
    "version": 3
   },
   "file_extension": ".py",
   "mimetype": "text/x-python",
   "name": "python",
   "nbconvert_exporter": "python",
   "pygments_lexer": "ipython3",
   "version": "3.7.4"
  }
 },
 "nbformat": 4,
 "nbformat_minor": 2
}
